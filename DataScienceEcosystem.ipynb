{
 "cells": [
  {
   "cell_type": "markdown",
   "id": "f97849b6",
   "metadata": {},
   "source": [
    "# Data Science Tools and Ecosystem\n"
   ]
  },
  {
   "cell_type": "markdown",
   "id": "7668cfd0",
   "metadata": {},
   "source": [
    "### Objectives\n",
    "\n",
    "    - Popular languages in Jupyter\n",
    "    - Libraries in Jupyter\n",
    "    - Arithmetic Expressions\n",
    "    - Headings\n",
    "    - Rows and Columns"
   ]
  },
  {
   "cell_type": "markdown",
   "id": "e4e127ba",
   "metadata": {},
   "source": [
    "In this notebook, Data Science Tools and Ecosystem are summarised."
   ]
  },
  {
   "cell_type": "markdown",
   "id": "9f09722a",
   "metadata": {},
   "source": [
    "Some of the popular language that Data Scientists use are:\n",
    "1. Python\n",
    "2. R\n",
    "3. Javascript"
   ]
  },
  {
   "cell_type": "markdown",
   "id": "f2f4cd25",
   "metadata": {},
   "source": [
    "Some of the commonly used libraries used by Data Scientists include:\n",
    "\n",
    "    - SciPy\n",
    "    - NumPy\n",
    "    - Matplotlib\n",
    "    "
   ]
  },
  {
   "cell_type": "markdown",
   "id": "f755ee95",
   "metadata": {},
   "source": [
    "|DATA SCIENCE TOOLS|\n",
    "|------------------|\n",
    "|Apache Spark|\n",
    "|Apache Hadoop|\n",
    "|Tensor Flow|"
   ]
  },
  {
   "cell_type": "markdown",
   "id": "b85588b7",
   "metadata": {},
   "source": [
    "### Below are a few examples of evaluating arithmetic expressions in Python.\n",
    "\n"
   ]
  },
  {
   "cell_type": "code",
   "execution_count": 2,
   "id": "c1ddf7c6",
   "metadata": {},
   "outputs": [
    {
     "data": {
      "text/plain": [
       "17"
      ]
     },
     "execution_count": 2,
     "metadata": {},
     "output_type": "execute_result"
    }
   ],
   "source": [
    "# This is a simple arithmetic expression to multiply and then add expression.\n",
    "\n",
    "(3*4) + 5"
   ]
  },
  {
   "cell_type": "code",
   "execution_count": 17,
   "id": "1c1a2cbc",
   "metadata": {},
   "outputs": [
    {
     "data": {
      "text/plain": [
       "3.3333333333333335"
      ]
     },
     "execution_count": 17,
     "metadata": {},
     "output_type": "execute_result"
    }
   ],
   "source": [
    "# This will convert 200 minutes to hours by dividing by 60.\n",
    "(200/60)"
   ]
  },
  {
   "cell_type": "markdown",
   "id": "d81418b8",
   "metadata": {},
   "source": [
    "## Author\n",
    "\n",
    "SANDEEP KUMAR"
   ]
  },
  {
   "cell_type": "code",
   "execution_count": null,
   "id": "7d4583a5",
   "metadata": {},
   "outputs": [],
   "source": []
  }
 ],
 "metadata": {
  "kernelspec": {
   "display_name": "Python 3 (ipykernel)",
   "language": "python",
   "name": "python3"
  },
  "language_info": {
   "codemirror_mode": {
    "name": "ipython",
    "version": 3
   },
   "file_extension": ".py",
   "mimetype": "text/x-python",
   "name": "python",
   "nbconvert_exporter": "python",
   "pygments_lexer": "ipython3",
   "version": "3.11.5"
  }
 },
 "nbformat": 4,
 "nbformat_minor": 5
}
